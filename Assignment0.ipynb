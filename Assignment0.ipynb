{
  "nbformat": 4,
  "nbformat_minor": 0,
  "metadata": {
    "colab": {
      "provenance": [],
      "authorship_tag": "ABX9TyMz+gvIAWFm2JFWgVk7aZ5t",
      "include_colab_link": true
    },
    "kernelspec": {
      "name": "python3",
      "display_name": "Python 3"
    },
    "language_info": {
      "name": "python"
    }
  },
  "cells": [
    {
      "cell_type": "markdown",
      "metadata": {
        "id": "view-in-github",
        "colab_type": "text"
      },
      "source": [
        "<a href=\"https://colab.research.google.com/github/Hitime01/assign/blob/main/Assignment0.ipynb\" target=\"_parent\"><img src=\"https://colab.research.google.com/assets/colab-badge.svg\" alt=\"Open In Colab\"/></a>"
      ]
    },
    {
      "cell_type": "markdown",
      "source": [
        "### 1. **Consider a sequence of n Bernoulli trials with success probabilty p per trial. A string of consecutive successes is known as a success run. Write a function that returns the counts for runs of length k for each k observed in a dictionary**"
      ],
      "metadata": {
        "id": "pdc3C6HNrNla"
      }
    },
    {
      "cell_type": "code",
      "execution_count": null,
      "metadata": {
        "id": "Xf0JgooXqpjA"
      },
      "outputs": [],
      "source": [
        "from collections import Counter\n",
        "import numpy as np\n",
        "\n",
        "def count_runs(list):\n",
        "    L = []\n",
        "    count = 0\n",
        "    for x in list:\n",
        "        if x == 1:\n",
        "            count += 1\n",
        "        else:\n",
        "            if count: L.append(count)\n",
        "            count = 0\n",
        "    if count: L.append(count)\n",
        "    return Counter(L)"
      ]
    },
    {
      "cell_type": "code",
      "source": [
        "count_runs([0, 1, 0, 1, 1, 0, 0, 0, 0, 1],)"
      ],
      "metadata": {
        "colab": {
          "base_uri": "https://localhost:8080/"
        },
        "id": "_dDuYBMcwLO5",
        "outputId": "6b75b2ea-c5e2-4b45-ef3a-498b27922025"
      },
      "execution_count": null,
      "outputs": [
        {
          "output_type": "execute_result",
          "data": {
            "text/plain": [
              "Counter({1: 2, 2: 1})"
            ]
          },
          "metadata": {},
          "execution_count": 37
        }
      ]
    },
    {
      "cell_type": "code",
      "source": [
        "count_runs(np.random.randint(0, 2, 1000000))"
      ],
      "metadata": {
        "colab": {
          "base_uri": "https://localhost:8080/"
        },
        "id": "UUasHfMpwLIb",
        "outputId": "eae69ebb-8bbc-4649-eb98-bbf4fcca4926"
      },
      "execution_count": null,
      "outputs": [
        {
          "output_type": "execute_result",
          "data": {
            "text/plain": [
              "Counter({1: 125001,\n",
              "         3: 31040,\n",
              "         2: 62730,\n",
              "         9: 511,\n",
              "         4: 15582,\n",
              "         5: 7890,\n",
              "         6: 3882,\n",
              "         7: 2000,\n",
              "         8: 958,\n",
              "         10: 242,\n",
              "         12: 49,\n",
              "         18: 1,\n",
              "         11: 136,\n",
              "         13: 30,\n",
              "         14: 17,\n",
              "         15: 12,\n",
              "         16: 4,\n",
              "         17: 1})"
            ]
          },
          "metadata": {},
          "execution_count": 66
        }
      ]
    },
    {
      "cell_type": "markdown",
      "source": [
        "### **2. Continuing from Part 1, what is the probability of observing at least one run of length 5 or more when n=100 and p=0.5?. Estimate this from 100,000 simulated experiments. Is this more, less or equally likely than finding runs of length 7 or more when p=0.7 ?**"
      ],
      "metadata": {
        "id": "eU4YKNziz3OS"
      }
    },
    {
      "cell_type": "code",
      "source": [
        "import numpy as np\n",
        "\n",
        "def has_run_of_length_k(arr, k):\n",
        "    count = 0\n",
        "    for val in arr:\n",
        "        if val == 1:\n",
        "            count += 1\n",
        "            if count >= k:\n",
        "                return True\n",
        "        else:\n",
        "            count = 0\n",
        "    return False\n",
        "\n",
        "def run_prob(expts, n, k, p):\n",
        "    successes = 0\n",
        "    for _ in range(expts):\n",
        "        sequence = np.random.random(n) < p\n",
        "        if has_run_of_length_k(sequence, k):\n",
        "            successes += 1\n",
        "    return successes / expts"
      ],
      "metadata": {
        "id": "FHJWXJvdz-cC"
      },
      "execution_count": null,
      "outputs": []
    },
    {
      "cell_type": "code",
      "source": [
        "run_prob(expts=100000, n=100, k=5, p=0.5)"
      ],
      "metadata": {
        "colab": {
          "base_uri": "https://localhost:8080/"
        },
        "id": "kMrl8nVJ-nHc",
        "outputId": "193717ab-1339-4136-c644-d7b65d36d827"
      },
      "execution_count": null,
      "outputs": [
        {
          "output_type": "execute_result",
          "data": {
            "text/plain": [
              "0.80814"
            ]
          },
          "metadata": {},
          "execution_count": 116
        }
      ]
    },
    {
      "cell_type": "code",
      "source": [
        "run_prob(expts=100000, n=100, k=7, p=0.7)"
      ],
      "metadata": {
        "colab": {
          "base_uri": "https://localhost:8080/"
        },
        "id": "VSk_-xHo-nw7",
        "outputId": "7dc076ef-b78a-4f2b-814f-b4786d713ccf"
      },
      "execution_count": null,
      "outputs": [
        {
          "output_type": "execute_result",
          "data": {
            "text/plain": [
              "0.94963"
            ]
          },
          "metadata": {},
          "execution_count": 114
        }
      ]
    }
  ]
}